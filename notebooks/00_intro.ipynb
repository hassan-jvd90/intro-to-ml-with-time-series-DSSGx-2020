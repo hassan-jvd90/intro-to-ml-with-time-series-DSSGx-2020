{
 "cells": [
  {
   "cell_type": "markdown",
   "metadata": {},
   "source": [
    "# <center style=\"font-size:30px\">Introduction to Machine Learning with Time Series</center>\n",
    "\n",
    "<center style=\"font-size:20px\"> DSSGx 2020, The Alan Turing Institute </center>\n",
    "<br>\n",
    "\n",
    "<center style=\"font-size:20px\"> Markus Löning (GitHub: @mloning)\n",
    "<br>\n",
    "\n",
    "<table>\n",
    "    <td>\n",
    "    <img src=\"../images/the-alan-turing-institute.png\" width=240/>\n",
    "    </td><td>\n",
    "    <img src=\"../images/dssg.png\" width=240/>\n",
    "    </td><td>\n",
    "    <img src=\"../images/sktime-logo.jpg\" width=120/>\n",
    "    </td>\n",
    "</table>\n",
    "\n",
    "<br>"
   ]
  },
  {
   "cell_type": "markdown",
   "metadata": {},
   "source": [
    "## Learning objectives\n",
    "\n",
    "You'll learn about\n",
    "\n",
    "* different learning problems that can arise in a temporal data setting;\n",
    "* different methods to solve these problems.\n",
    "\n",
    "## What's sktime?\n",
    "\n",
    "* a unified toolbox for different time series learning tasks\n",
    "* a modular, scikit-learn compatible toolbox for ML with time series\n",
    "* we provide specialised time series algorithms and tools to build, tune and evaluate composite models\n",
    "* friendly community of reseachers & practitioners from around the world\n",
    "\n",
    "<img src=\"../images/sktime-GitHub.png\" width=500/>\n",
    "\n",
    "\n",
    "## Resources\n",
    "\n",
    "* Check out our [list of related packages](https://github.com/alan-turing-institute/sktime/wiki/related-software). Feel free to raise an issue if anything is missing!\n",
    "\n",
    "\n",
    "## Content\n",
    "\n",
    "1. Taxonomy of time series learning tasks\n",
    "2. Exploratory data analysis\n",
    "3. Preprocessing\n",
    "3. Time series classification\n",
    "3. Forecasting"
   ]
  },
  {
   "cell_type": "code",
   "execution_count": null,
   "metadata": {},
   "outputs": [],
   "source": []
  }
 ],
 "metadata": {
  "kernelspec": {
   "display_name": "Python 3",
   "language": "python",
   "name": "python3"
  },
  "language_info": {
   "codemirror_mode": {
    "name": "ipython",
    "version": 3
   },
   "file_extension": ".py",
   "mimetype": "text/x-python",
   "name": "python",
   "nbconvert_exporter": "python",
   "pygments_lexer": "ipython3",
   "version": "3.7.3"
  }
 },
 "nbformat": 4,
 "nbformat_minor": 4
}
